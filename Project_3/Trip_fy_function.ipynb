{
 "cells": [
  {
   "cell_type": "code",
   "execution_count": 11,
   "metadata": {},
   "outputs": [],
   "source": [
    "import pandas as pd\n",
    "import requests\n",
    "import numpy as np"
   ]
  },
  {
   "cell_type": "code",
   "execution_count": 14,
   "metadata": {},
   "outputs": [],
   "source": [
    "def destination_weather(city):\n",
    "    url = \"https://api.ipma.pt/open-data/distrits-islands.json\" \n",
    "    response = requests.get(url=url)\n",
    "    ipma_loc =  pd.DataFrame(response.json()) \n",
    "    ipma_data = pd.json_normalize(ipma_loc[\"data\"])\n",
    "    ipma_df_loc = ipma_data[[\"globalIdLocal\", \"local\"]] \n",
    "    list_globalidloc = list(ipma_df_loc[\"globalIdLocal\"].values)\n",
    "\n",
    "    url2 = \"http://api.ipma.pt/open-data/forecast/meteorology/cities/daily/\"\n",
    "    ipma_dict = {}\n",
    "    for idloc in list_globalidloc:\n",
    "        url =  url2 + str(idloc) + \".json\"\n",
    "        response = requests.get(url = url)\n",
    "        ipma_dict[idloc] = response.json()\n",
    "        \n",
    "    ipma_df = pd.DataFrame(ipma_dict).T \n",
    "    ipma_df.reset_index(inplace=True)\n",
    "    to_bread_df = pd.json_normalize(ipma_df[\"data\"])\n",
    "    for i in range(len(to_bread_df.columns)-2):\n",
    "        temp = pd.json_normalize(to_bread_df[i])\n",
    "        ipma_df = pd.concat([ipma_df, temp], axis=1)\n",
    "\n",
    "    ipma_clear = ipma_df.drop(columns=[\"country\",\"data\",\"predWindDir\",\"idWeatherType\",\"classWindSpeed\",\"classPrecInt\",\"dataUpdate\",\"longitude\",\"latitude\",\"index\",\"owner\"]) \n",
    "    hoje = ipma_clear.iloc[:,:5] \n",
    "    amanha = ipma_clear.iloc[:,[0,5,6,7,8]]\n",
    "    depois_de_amanha = ipma_clear.iloc[:,[0,9,10,11,12]]\n",
    "    vertical_concat = pd.concat([hoje, amanha, depois_de_amanha], axis=0)\n",
    "    all_columns = pd.merge(vertical_concat, ipma_df_loc)\n",
    "    list_parish = pd.read_excel(\"list_freguesias.xlsx\")\n",
    "    def get_dist(city):\n",
    "        capital = list_parish.loc[(list_parish[\"FREGUESIA\"] == city) | (list_parish[\"Concelho\"] == city), \"Distrito\"].values[0]\n",
    "        return capital\n",
    "    transformed_destiny = get_dist(city)\n",
    "    return all_columns.loc[all_columns['local'] == transformed_destiny]\n"
   ]
  },
  {
   "cell_type": "code",
   "execution_count": 16,
   "metadata": {},
   "outputs": [
    {
     "data": {
      "text/html": [
       "<div>\n",
       "<style scoped>\n",
       "    .dataframe tbody tr th:only-of-type {\n",
       "        vertical-align: middle;\n",
       "    }\n",
       "\n",
       "    .dataframe tbody tr th {\n",
       "        vertical-align: top;\n",
       "    }\n",
       "\n",
       "    .dataframe thead th {\n",
       "        text-align: right;\n",
       "    }\n",
       "</style>\n",
       "<table border=\"1\" class=\"dataframe\">\n",
       "  <thead>\n",
       "    <tr style=\"text-align: right;\">\n",
       "      <th></th>\n",
       "      <th>globalIdLocal</th>\n",
       "      <th>precipitaProb</th>\n",
       "      <th>tMin</th>\n",
       "      <th>tMax</th>\n",
       "      <th>forecastDate</th>\n",
       "      <th>local</th>\n",
       "    </tr>\n",
       "  </thead>\n",
       "  <tbody>\n",
       "  </tbody>\n",
       "</table>\n",
       "</div>"
      ],
      "text/plain": [
       "Empty DataFrame\n",
       "Columns: [globalIdLocal, precipitaProb, tMin, tMax, forecastDate, local]\n",
       "Index: []"
      ]
     },
     "execution_count": 16,
     "metadata": {},
     "output_type": "execute_result"
    }
   ],
   "source": [
    "destination_weather(\"PORTO DE MOS\")"
   ]
  },
  {
   "cell_type": "code",
   "execution_count": null,
   "metadata": {},
   "outputs": [],
   "source": [
    "def destination_weather(city):\n",
    "    url = \"https://api.ipma.pt/open-data/distrits-islands.json\"\n",
    "    response = requests.get(url=url)\n",
    "    ipma_loc =  pd.DataFrame(response.json())\n",
    "    ipma_data = pd.json_normalize(ipma_loc[\"data\"])\n",
    "    ipma_df_loc = ipma_data[[\"globalIdLocal\", \"local\"]]\n",
    "    list_globalidloc = list(ipma_df_loc[\"globalIdLocal\"].values)\n",
    "    url2 = \"http://api.ipma.pt/open-data/forecast/meteorology/cities/daily/\"\n",
    "    ipma_dict = {}\n",
    "    for idloc in list_globalidloc:\n",
    "        url =  url2 + str(idloc) + \".json\"\n",
    "        response = requests.get(url = url)\n",
    "        ipma_dict[idloc] = response.json()\n",
    "    ipma_df = pd.DataFrame(ipma_dict).T\n",
    "    ipma_df.reset_index(inplace=True)\n",
    "    to_bread_df = pd.json_normalize(ipma_df[\"data\"])\n",
    "    for i in range(len(to_bread_df.columns)-2):\n",
    "        temp = pd.json_normalize(to_bread_df[i])\n",
    "        ipma_df = pd.concat([ipma_df, temp], axis=1)\n",
    "    ipma_clear = ipma_df.drop(columns=[\"country\",\"data\",\"predWindDir\",\"idWeatherType\",\"classWindSpeed\",\"classPrecInt\",\"dataUpdate\",\"longitude\",\"latitude\",\"index\",\"owner\"])\n",
    "    hoje = ipma_clear.iloc[:,:5]\n",
    "    amanha = ipma_clear.iloc[:,[0,5,6,7,8]]\n",
    "    depois_de_amanha = ipma_clear.iloc[:,[0,9,10,11,12]]\n",
    "    vertical_concat = pd.concat([hoje, amanha, depois_de_amanha], axis=0)\n",
    "    all_columns = pd.merge(vertical_concat, ipma_df_loc)\n",
    "    return all_columns.loc[all_columns['local'] == city]"
   ]
  }
 ],
 "metadata": {
  "kernelspec": {
   "display_name": "Python 3.9.13 ('ironhack')",
   "language": "python",
   "name": "python3"
  },
  "language_info": {
   "codemirror_mode": {
    "name": "ipython",
    "version": 3
   },
   "file_extension": ".py",
   "mimetype": "text/x-python",
   "name": "python",
   "nbconvert_exporter": "python",
   "pygments_lexer": "ipython3",
   "version": "3.9.13"
  },
  "orig_nbformat": 4,
  "vscode": {
   "interpreter": {
    "hash": "13431b83ec255a84f87b36c3fda10080d0a9ddc1e0462dd4b0a9c2fbf7790bb4"
   }
  }
 },
 "nbformat": 4,
 "nbformat_minor": 2
}
