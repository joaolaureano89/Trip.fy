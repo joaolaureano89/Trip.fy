{
 "cells": [
  {
   "cell_type": "code",
   "execution_count": 4,
   "metadata": {},
   "outputs": [],
   "source": [
    "import pandas as pd\n",
    "import requests\n",
    "import numpy as np"
   ]
  },
  {
   "cell_type": "code",
   "execution_count": 22,
   "metadata": {},
   "outputs": [],
   "source": [
    "\n",
    "def get_dist(destiny):\n",
    "    list_parish = pd.read_excel(\"list_freguesias.xlsx\")\n",
    "    capital = list_parish.loc[(list_parish[\"FREGUESIA\"] == destiny) | (list_parish[\"Concelho\"] == destiny), \"Distrito\"].values[0]\n",
    "    return capital.capitalize()\n",
    "\n",
    "\n",
    "def destination_weather(transformed_destiny):\n",
    "    url = \"https://api.ipma.pt/open-data/distrits-islands.json\"\n",
    "    response = requests.get(url=url)\n",
    "    ipma_loc =  pd.DataFrame(response.json())\n",
    "    ipma_data = pd.json_normalize(ipma_loc[\"data\"])\n",
    "    ipma_df_loc = ipma_data[[\"globalIdLocal\", \"local\"]]\n",
    "    list_globalidloc = list(ipma_df_loc[\"globalIdLocal\"].values)\n",
    "    url2 = \"http://api.ipma.pt/open-data/forecast/meteorology/cities/daily/\"\n",
    "    ipma_dict = {}\n",
    "    for idloc in list_globalidloc:\n",
    "        url =  url2 + str(idloc) + \".json\"\n",
    "        response = requests.get(url = url)\n",
    "        ipma_dict[idloc] = response.json()\n",
    "    ipma_df = pd.DataFrame(ipma_dict).T\n",
    "    ipma_df.reset_index(inplace=True)\n",
    "    to_bread_df = pd.json_normalize(ipma_df[\"data\"])\n",
    "    for i in range(len(to_bread_df.columns)-2):\n",
    "        temp = pd.json_normalize(to_bread_df[i])\n",
    "        ipma_df = pd.concat([ipma_df, temp], axis=1)\n",
    "    ipma_clear = ipma_df.drop(columns=[\"country\",\"data\",\"predWindDir\",\"idWeatherType\",\"classWindSpeed\",\"classPrecInt\",\"dataUpdate\",\"longitude\",\"latitude\",\"index\",\"owner\"])\n",
    "    hoje = ipma_clear.iloc[:,:5]\n",
    "    amanha = ipma_clear.iloc[:,[0,5,6,7,8]]\n",
    "    depois_de_amanha = ipma_clear.iloc[:,[0,9,10,11,12]]\n",
    "    vertical_concat = pd.concat([hoje, amanha, depois_de_amanha], axis=0)\n",
    "    all_columns = pd.merge(vertical_concat, ipma_df_loc)\n",
    "    return all_columns.loc[all_columns['local'] == transformed_destiny]"
   ]
  },
  {
   "cell_type": "code",
   "execution_count": 23,
   "metadata": {},
   "outputs": [
    {
     "name": "stdout",
     "output_type": "stream",
     "text": [
      "Leiria\n"
     ]
    },
    {
     "data": {
      "text/html": [
       "<div>\n",
       "<style scoped>\n",
       "    .dataframe tbody tr th:only-of-type {\n",
       "        vertical-align: middle;\n",
       "    }\n",
       "\n",
       "    .dataframe tbody tr th {\n",
       "        vertical-align: top;\n",
       "    }\n",
       "\n",
       "    .dataframe thead th {\n",
       "        text-align: right;\n",
       "    }\n",
       "</style>\n",
       "<table border=\"1\" class=\"dataframe\">\n",
       "  <thead>\n",
       "    <tr style=\"text-align: right;\">\n",
       "      <th></th>\n",
       "      <th>globalIdLocal</th>\n",
       "      <th>precipitaProb</th>\n",
       "      <th>tMin</th>\n",
       "      <th>tMax</th>\n",
       "      <th>forecastDate</th>\n",
       "      <th>local</th>\n",
       "    </tr>\n",
       "  </thead>\n",
       "  <tbody>\n",
       "    <tr>\n",
       "      <th>42</th>\n",
       "      <td>1100900</td>\n",
       "      <td>100.0</td>\n",
       "      <td>13.9</td>\n",
       "      <td>20.9</td>\n",
       "      <td>2022-10-20</td>\n",
       "      <td>Leiria</td>\n",
       "    </tr>\n",
       "    <tr>\n",
       "      <th>43</th>\n",
       "      <td>1100900</td>\n",
       "      <td>100.0</td>\n",
       "      <td>15.1</td>\n",
       "      <td>21.2</td>\n",
       "      <td>2022-10-21</td>\n",
       "      <td>Leiria</td>\n",
       "    </tr>\n",
       "    <tr>\n",
       "      <th>44</th>\n",
       "      <td>1100900</td>\n",
       "      <td>100.0</td>\n",
       "      <td>15.3</td>\n",
       "      <td>22.4</td>\n",
       "      <td>2022-10-22</td>\n",
       "      <td>Leiria</td>\n",
       "    </tr>\n",
       "  </tbody>\n",
       "</table>\n",
       "</div>"
      ],
      "text/plain": [
       "   globalIdLocal precipitaProb  tMin  tMax forecastDate   local\n",
       "42       1100900         100.0  13.9  20.9   2022-10-20  Leiria\n",
       "43       1100900         100.0  15.1  21.2   2022-10-21  Leiria\n",
       "44       1100900         100.0  15.3  22.4   2022-10-22  Leiria"
      ]
     },
     "execution_count": 23,
     "metadata": {},
     "output_type": "execute_result"
    }
   ],
   "source": [
    "transformed_destiny = get_dist(\"PORTO DE MOS\")\n",
    "destination_weather(transformed_destiny)"
   ]
  },
  {
   "cell_type": "code",
   "execution_count": 17,
   "metadata": {},
   "outputs": [
    {
     "data": {
      "text/plain": [
       "'LEIRIA'"
      ]
     },
     "execution_count": 17,
     "metadata": {},
     "output_type": "execute_result"
    }
   ],
   "source": [
    "transformed_destiny"
   ]
  },
  {
   "cell_type": "code",
   "execution_count": null,
   "metadata": {},
   "outputs": [],
   "source": []
  }
 ],
 "metadata": {
  "kernelspec": {
   "display_name": "Python 3.9.13 ('ironhack')",
   "language": "python",
   "name": "python3"
  },
  "language_info": {
   "codemirror_mode": {
    "name": "ipython",
    "version": 3
   },
   "file_extension": ".py",
   "mimetype": "text/x-python",
   "name": "python",
   "nbconvert_exporter": "python",
   "pygments_lexer": "ipython3",
   "version": "3.9.13"
  },
  "orig_nbformat": 4,
  "vscode": {
   "interpreter": {
    "hash": "13431b83ec255a84f87b36c3fda10080d0a9ddc1e0462dd4b0a9c2fbf7790bb4"
   }
  }
 },
 "nbformat": 4,
 "nbformat_minor": 2
}
